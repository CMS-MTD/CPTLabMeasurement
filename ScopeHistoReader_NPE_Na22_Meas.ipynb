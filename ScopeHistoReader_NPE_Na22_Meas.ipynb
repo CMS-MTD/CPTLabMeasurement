{
 "cells": [
  {
   "cell_type": "code",
   "execution_count": 2,
   "metadata": {},
   "outputs": [
    {
     "name": "stdout",
     "output_type": "stream",
     "text": [
      "Welcome to JupyROOT 6.13/02\n"
     ]
    }
   ],
   "source": [
    "import csv\n",
    "import numpy as np\n",
    "import ROOT as rt\n",
    "from glob import glob\n",
    "donotdelete = []"
   ]
  },
  {
   "cell_type": "code",
   "execution_count": 3,
   "metadata": {},
   "outputs": [],
   "source": [
    "#f = open('../data/181018_wrapping_test_SensLJ/Na22_12x12x4_SensLJ_OV30p0_MaskWrapping.csv')\n",
    "#f = open('../data/181019_wrappin_crystal_test_SensLJ/Na22_12x12x4_SensLJ_OV30p0_SiWrapping_v3.csv')\n",
    "#f = open('../data/181019_wrappin_crystal_test_SensLJ/Na22_Bar3x3x50_SensLJ_OV30p0_blackholder.csv')\n",
    "#f = open('../data/181020_crystal_test/Na22_7x7x4_SensLJ_OV30p0_Siwrapping.csv')\n",
    "#f = open('../data/181020_crystal_test/Na22_5x5x4_SensLJ_OV30p0_Siwrapping_v5.csv')\n",
    "# f = open('../data/181022_ham/Na22_7p8x7p8x4_tile-roughedges_3x3mm_Ham25um_SMA_OV58p0.csv')\n",
    "#f = open('../data/181022_ham/Na22_3x3x50_bar_twoSided_3x3mm_sensLJ_Lautaroboard_OV30p0_sipm2.csv')\n",
    "\n",
    "# f = open('../data/181026_sensl_30V_crystal_bar_tile_lce_measurement_Na22/tile_8x8x4_na22_sensl_serial4_30V_V1.csv')\n",
    "# f = open('../data/18_10_29_Na22_OV30V_AMP52+/Na22_tile_8x8x4_SensL_J_5_OV30V_AMP52+.csv')\n",
    "# f = open('../data/181102_Na22_SensL_Bar_3x3x50_OV30V/Na22_Bar_3x3x50_onesided_otherside_exposed_SensL_J_33_3_newholder_OV30V.csv')\n",
    "\n",
    "# f = open('../data/181101_Na22_Sensl_C_33_20_1_OV30V_NoExtAmp/Na22_8x8x4mm_SensL_C_33_20_1_OV30V_NoExtAmp.csv')\n",
    "# f = open('../data/181107_SensL_crystal_test/Na22_3x3x50_bar_onesided_othersideexposed_Snl_44J35_2_OV30V_th8mV_v2.csv')\n",
    "f = open('../data/190523_doe_visit/SenslC_Na22_Trg4mV.csv')\n",
    "content = csv.reader(f)\n",
    "\n",
    "Amp_x_R = 50 * 10\n",
    "\n",
    "x = []\n",
    "y = []\n",
    "for r in content:\n",
    "#     x.append(1e12*float(r[0]) / Amp_x_R)\n",
    "    x.append(1e9*float(r[0]))#nVs\n",
    "    y.append(float(r[1]))\n",
    "\n",
    "h = rt.TH1F('h', 'h', int(len(x)), x[0], x[-1])\n",
    "# h.GetXaxis().SetLimits(h.FindBin(-300), h.FindBin(0))\n",
    "h.SetXTitle('Charge [pC]')\n",
    "h.SetYTitle('Events / {:1.1e} pC'.format(h.GetBinWidth(1)))\n",
    "for i in range(len(x)):\n",
    "    h.SetBinContent(i+1, y[i])"
   ]
  },
  {
   "cell_type": "code",
   "execution_count": 4,
   "metadata": {},
   "outputs": [
    {
     "name": "stdout",
     "output_type": "stream",
     "text": [
      "5\n"
     ]
    },
    {
     "name": "stderr",
     "output_type": "stream",
     "text": [
      "Info in <TCanvas::MakeDefCanvas>:  created default TCanvas with name c1\n"
     ]
    }
   ],
   "source": [
    "SS = rt.TSpectrum()\n",
    "n_pks = SS.Search(h, 0.1, \"\", 0.02)\n",
    "x_pos = SS.GetPositionX()\n",
    "y_pos = SS.GetPositionY()\n",
    "pks = []\n",
    "print n_pks\n"
   ]
  },
  {
   "cell_type": "code",
   "execution_count": 5,
   "metadata": {},
   "outputs": [
    {
     "name": "stdout",
     "output_type": "stream",
     "text": [
      "((5,), 0.511)\n",
      "0 : E = 0.511 MeV\n",
      "Deposited charge: 3.6 pC (Ne = 22M)\n",
      "Fit p-val = 0.01\n",
      "('number in nVs', 3.5825399535758202)\n",
      "N_pe: 939\n",
      "N_ph: 1878\n",
      "uncertainty in N_ph 0\n",
      "uncertainty in pC 1\n",
      "Estimated number of decays: 102183\n",
      "\n",
      "\n",
      "4 : E = 0.511 MeV\n",
      "Deposited charge: 7.8 pC (Ne = 49M)\n",
      "Fit p-val = 0.07\n",
      "('number in nVs', 7.813414647400569)\n",
      "N_pe: 2048\n",
      "N_ph: 4097\n",
      "uncertainty in N_ph 2\n",
      "uncertainty in pC 4\n",
      "Estimated number of decays: 10113\n",
      "\n",
      "\n"
     ]
    }
   ],
   "source": [
    "\n",
    "# Energy = np.array([0.341, 0.511, 1.057, 1.27])\n",
    "Energy = np.ones((n_pks,))*0.511\n",
    "print(Energy.shape,Energy[0])\n",
    "#Energy = np.array([0, 0.511])\n",
    "N_pe = 0*Energy\n",
    "\n",
    "#gain = 76005 # gain of SensL J1 (one that Cristian broke)\n",
    "# gain = 76220.3 #gain of sensL j_2\n",
    "# gain = 73471.6 # sensL J_5 with 52+\n",
    "# gain = 80470.4 #sensL J_4 74+\n",
    "# gain = 24808.7 # gain of Hamamatsu surface mount, S13360-1325PE\n",
    "# gain = 42073.8 # sensL C 3x3\n",
    "# PDE = 0.4 # PDE assumption for SensL J series\n",
    "# PDE = 0.25 # pde of hamamatsu surface mount from spec sheet, at V = 58V, V_over = 5V\n",
    "# PDE = 0.31 #sensL C 3x3\n",
    "\n",
    "gain = 46653.6 #sensL_44J35_2\n",
    "PDE = 0.5\n",
    "\n",
    "peaks = []\n",
    "Ch2N = 1.0e-12/1.6e-19\n",
    "\n",
    "for i in range(n_pks):\n",
    "    if i < n_pks-1 and i > 0: continue\n",
    "    print i, ':', 'E = {:.3f} MeV'.format(Energy[i])\n",
    "    n_pk = h.FindBin(x_pos[i])\n",
    "    \n",
    "#     if i in [0, 2]:\n",
    "#         print 'Not used'\n",
    "#         print '\\n'\n",
    "#         continue\n",
    "    \n",
    "    if i == 0:\n",
    "        thr = 0.4 * h.GetBinContent(n_pk)\n",
    "    else:\n",
    "        thr = 0.4 * h.GetBinContent(n_pk)\n",
    "            \n",
    "    \n",
    "    n_low = n_pk\n",
    "    while h.GetBinContent(n_low) > thr:\n",
    "        n_low -= 1\n",
    "    x_low = h.GetBinCenter(n_low)    \n",
    "    \n",
    "        \n",
    "    n_up = n_pk\n",
    "    while h.GetBinContent(n_up) > thr:\n",
    "        n_up += 1\n",
    "    x_up = h.GetBinCenter(n_up)\n",
    "    \n",
    "    r = h.Fit('gaus', 'LRSQ+', '', x_low, x_up)\n",
    "    r = r.Get()\n",
    "    \n",
    "    print 'Deposited charge: {:.1f} pC (Ne = {:.0f}M)'.format(r.Parameter(1), 1e-6*r.Parameter(1)*Ch2N)\n",
    "    print 'Fit p-val = {:.2f}'.format(r.Prob())\n",
    "    print('number in nVs',r.Parameter(1))\n",
    "    print 'N_pe: {:.0f}'.format(r.Parameter(1)*Ch2N / (gain*Energy[i]))\n",
    "    print 'N_ph: {:.0f}'.format(r.Parameter(1)*Ch2N / (gain*PDE*Energy[i]))\n",
    "    print 'uncertainty in N_ph {:.0f}'.format(r.ParError(1)*Ch2N / (gain*PDE*Energy[i]))\n",
    "    print 'uncertainty in pC {:.0f}'.format(r.ParError(1)*1000)\n",
    "    peaks.append(r.Parameter(1))\n",
    "\n",
    "#     N_pe[i] = r.Parameter(1)*Ch2N / (gain * Energy[i])\n",
    "    \n",
    "    integral = r.Parameter(0) * np.sqrt(2*np.pi) * r.Parameter(2) / h.GetBinWidth(1)\n",
    "    print 'Estimated number of decays: {:.0f}'.format(integral)\n",
    "    print '\\n'\n",
    "    \n",
    "# aux = np.polyfit(Energy[[1,3]], N_pe[[1,3]], 1)\n",
    "# m = aux[0]\n",
    "# offset = aux[1]\n",
    "\n",
    "# print 'N_pe = {:.1f} * E[MeV] + {:.1f}'.format(m, offset)\n",
    "# print 'Expected @ 4MeV = {:.0f}'.format(m*4. + offset)\n",
    "# print('peak difference',peaks[1]-peaks[0])\n",
    "\n"
   ]
  },
  {
   "cell_type": "code",
   "execution_count": 31,
   "metadata": {
    "scrolled": false
   },
   "outputs": [
    {
     "name": "stderr",
     "output_type": "stream",
     "text": [
      "Warning in <TCanvas::Constructor>: Deleting canvas with same name: c_spectrum\n"
     ]
    },
    {
     "data": {
      "image/png": "[encoded data removed]",
      "text/plain": [
       "<IPython.core.display.Image object>"
      ]
     },
     "metadata": {},
     "output_type": "display_data"
    }
   ],
   "source": [
    "\n",
    "c = rt.TCanvas('c_spectrum', 'c_spectrum', 800, 600)\n",
    "#rt.gStyle.SetOptFit(000002200)\n",
    "rt.gStyle.SetOptFit(000002200)\n",
    "# rt.gStyle.SetTitleSize(0.8)\n",
    "\n",
    "\n",
    "\n",
    "h.SetStats(0)\n",
    "h.SetTitle('Integrated charge')\n",
    "h.GetXaxis().SetRangeUser(-20,60)\n",
    "h.GetXaxis().SetTitleSize(0.06)\n",
    "h.GetXaxis().SetTitleOffset(0.9)\n",
    "h.GetXaxis().SetLabelSize(0.05)\n",
    "\n",
    "h.GetYaxis().SetTitleSize(0.06)\n",
    "h.GetYaxis().SetTitleOffset(0.9)\n",
    "h.GetYaxis().SetLabelSize(0.05)\n",
    "\n",
    "c.SetLeftMargin(0.11)\n",
    "c.SetBottomMargin(0.12)\n",
    "\n",
    "\n",
    "h.DrawCopy()\n",
    "c.SetLogy()\n",
    "c.SetGrid()\n",
    "c.Draw()\n",
    "donotdelete.append(c)"
   ]
  },
  {
   "cell_type": "code",
   "execution_count": null,
   "metadata": {},
   "outputs": [],
   "source": []
  },
  {
   "cell_type": "code",
   "execution_count": null,
   "metadata": {},
   "outputs": [],
   "source": []
  },
  {
   "cell_type": "code",
   "execution_count": null,
   "metadata": {},
   "outputs": [],
   "source": []
  }
 ],
 "metadata": {
  "kernelspec": {
   "display_name": "Python 2",
   "language": "python",
   "name": "python2"
  },
  "language_info": {
   "codemirror_mode": {
    "name": "ipython",
    "version": 2
   },
   "file_extension": ".py",
   "mimetype": "text/x-python",
   "name": "python",
   "nbconvert_exporter": "python",
   "pygments_lexer": "ipython2",
   "version": "2.7.15"
  }
 },
 "nbformat": 4,
 "nbformat_minor": 2
}
