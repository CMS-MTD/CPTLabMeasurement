{
 "cells": [
  {
   "cell_type": "code",
   "execution_count": 75,
   "metadata": {},
   "outputs": [],
   "source": [
    "import csv\n",
    "import numpy as np\n",
    "import ROOT as rt\n",
    "from glob import glob"
   ]
  },
  {
   "cell_type": "code",
   "execution_count": 76,
   "metadata": {},
   "outputs": [],
   "source": [
    "Energy_cs = np.array([0.185, 0.477, 0.662])\n",
    "Energy_na = np.array([0.170, 0.341, 0.511, 1.057, 1.27])\n",
    "\n",
    "#gain = 76005 # gain of SensL J1 (broke)\n",
    "# gain = 76220.3 #gain of sensL j_2\n",
    "# gain = 73471.6 # sensL J_5 with 52+\n",
    "# gain = 80470.4 #sensL J_4 74+\n",
    "gain = 82085.1 #SensL j_33_35_3\n",
    "# gain = 47730.8 #SensL_j_44_35_1\n",
    "# gain = 39548.6 #Senl_C_33_20_4\n",
    "PDE = 0.5 # PDE assumption for SensL J series\n",
    "# PDE = 0.31\n",
    "#PDE = 0.25 # pde of hamamatsu surface mount from spec sheet, at V = 58V, V_over = 5V\n",
    "Ch2N = 1.0e-12/1.6e-19\n",
    "\n"
   ]
  },
  {
   "cell_type": "code",
   "execution_count": 77,
   "metadata": {},
   "outputs": [
    {
     "name": "stderr",
     "output_type": "stream",
     "text": [
      "Warning in <TROOT::Append>: Replacing existing TH1: h (Potential memory leak).\n"
     ]
    }
   ],
   "source": [
    "na = open('../data/181031_Sensl_J_33_3_Saturation/Na22_tile_8x8x4_SensL_J_33_3_OV30V.csv')\n",
    "cs = open('../data/181031_Sensl_J_33_3_Saturation/Cs137_tile_8x8x4_SensL_J_33_3_OV30V.csv')\n",
    "# single_pe = open('../data/18_10_24_sensL_J33_singlephoton/JLaser_tune90_ND1_singlephoton_SL_J33_3_OV30V_NoExtAmp.csv')\n",
    "# cs = open('../data/181107_SensL_crystal_test/Cs137_8x8x4mm_tile_Snl_44J35_1_OV30V_th8mV.csv')\n",
    "# na = open('../data/181107_SensL_crystal_test/Na22_8x8x4mm_tile_Snl_44J35_1_OV30V_th8mV.csv')\n",
    "# cs = open('../data/181107_SensL_crystal_test/Cs137_8x8x4mm_tile_Snl_33C20_4_OV30V_th5mV.csv')\n",
    "# na = open('../data/181107_SensL_crystal_test/Na22_8x8x4mm_tile_Snl_33C20_4_OV30V.csv')\n",
    "\n",
    "\n",
    "\n",
    "\n",
    "f = na\n",
    "Amp_x_R = 50 * 10\n",
    "content = csv.reader(f)\n",
    "\n",
    "\n",
    "x = []\n",
    "y = []\n",
    "for r in content:\n",
    "    x.append(1e12*float(r[0]) / Amp_x_R)\n",
    "    y.append(float(r[1]))\n",
    "\n",
    "h = rt.TH1F('h', 'h', int(len(x)), x[0], x[-1])\n",
    "# h.GetXaxis().SetLimits(h.FindBin(-300), h.FindBin(0))\n",
    "h.SetXTitle('Charge [pC]')\n",
    "h.SetYTitle('Events / {:1.1e} pC'.format(h.GetBinWidth(1)))\n",
    "for i in range(len(x)):\n",
    "    h.SetBinContent(i+1, y[i])"
   ]
  },
  {
   "cell_type": "code",
   "execution_count": 78,
   "metadata": {},
   "outputs": [
    {
     "name": "stdout",
     "output_type": "stream",
     "text": [
      "10\n",
      "[12.620133843212242, 20.53317399617591, 27.813170936902495, 40.39490478011473, 44.11403365200765] [360.0, 194.0, 839.0, 66.0, 104.0]\n"
     ]
    }
   ],
   "source": [
    "SS = rt.TSpectrum()\n",
    "n_pks = SS.Search(h, 4, \"\", 0.007)\n",
    "x_pos = SS.GetPositionX()\n",
    "y_pos = SS.GetPositionY()\n",
    "pks = []\n",
    "print n_pks\n",
    "for i in range(n_pks):\n",
    "    pks.append((x_pos[i],y_pos[i]))\n",
    "       \n",
    "pks.sort(key=lambda tup: tup[0])\n",
    "# pks = pks[n_pks-len(Energy_na):]\n",
    "# pks = [pks[4],pks[8],pks[9],pks[10],pks[11]]\n",
    "pks = [pks[4],pks[6],pks[7],pks[8],pks[9]]\n",
    "\n",
    "\n",
    "x_pos = []\n",
    "y_pos = []\n",
    "for x,y in pks:\n",
    "    x_pos.append(x)\n",
    "    y_pos.append(y)\n",
    "print x_pos,y_pos\n",
    "              "
   ]
  },
  {
   "cell_type": "code",
   "execution_count": 79,
   "metadata": {},
   "outputs": [
    {
     "name": "stdout",
     "output_type": "stream",
     "text": [
      "0 : E = 0.170 MeV\n",
      "('saturation points', 981.8226736987863)\n",
      "Deposited charge: 12.9 pC (Ne = 81M)\n",
      "Fit p-val = 0.40\n",
      "12.8948819765\n",
      "N_pe: 5775\n",
      "N_ph: 11551\n",
      "uncertainty in N_ph 48\n",
      "uncertainty in pC 54\n",
      "Estimated number of decays: 24235\n",
      "\n",
      "\n",
      "1 : E = 0.341 MeV\n",
      "('saturation points', 1558.7623911869566)\n",
      "Deposited charge: 20.5 pC (Ne = 128M)\n",
      "Fit p-val = 0.69\n",
      "20.4721866811\n",
      "N_pe: 4571\n",
      "N_ph: 9142\n",
      "uncertainty in N_ph 21\n",
      "uncertainty in pC 47\n",
      "Estimated number of decays: 4897\n",
      "\n",
      "\n",
      "2 : E = 0.511 MeV\n",
      "('saturation points', 2117.1175328157997)\n",
      "Deposited charge: 27.8 pC (Ne = 174M)\n",
      "Fit p-val = 0.01\n",
      "27.8054087029\n",
      "N_pe: 4143\n",
      "N_ph: 8286\n",
      "uncertainty in N_ph 3\n",
      "uncertainty in pC 9\n",
      "Estimated number of decays: 30837\n",
      "\n",
      "\n",
      "3 : E = 1.057 MeV\n",
      "('saturation points', 3074.2785713701205)\n",
      "Deposited charge: 40.4 pC (Ne = 252M)\n",
      "Fit p-val = 0.14\n",
      "40.3763942334\n",
      "N_pe: 2908\n",
      "N_ph: 5817\n",
      "uncertainty in N_ph 4\n",
      "uncertainty in pC 31\n",
      "Estimated number of decays: 790\n",
      "\n",
      "\n",
      "4 : E = 1.270 MeV\n",
      "('saturation points', 3369.0659937844284)\n",
      "Deposited charge: 44.2 pC (Ne = 277M)\n",
      "Fit p-val = 0.27\n",
      "44.248019041\n",
      "N_pe: 2653\n",
      "N_ph: 5306\n",
      "uncertainty in N_ph 3\n",
      "uncertainty in pC 27\n",
      "Estimated number of decays: 3045\n",
      "\n",
      "\n"
     ]
    },
    {
     "name": "stderr",
     "output_type": "stream",
     "text": [
      "Error in <TList::Delete>: A list is accessing an object (0x7ff9e081f590) already deleted (list name = TList)\n",
      "Error in <TList::Delete>: A list is accessing an object (0x7ff9e0634380) already deleted (list name = TList)\n",
      "Error in <TList::Delete>: A list is accessing an object (0x7ff9e081f590) already deleted (list name = TList)\n",
      "Error in <TList::Delete>: A list is accessing an object (0x7ff9e0634380) already deleted (list name = TList)\n"
     ]
    }
   ],
   "source": [
    "multi = rt.TMultiGraph()\n",
    "saturation = rt.TGraphErrors(20)\n",
    "linear = rt.TGraphErrors(3)\n",
    "#Energy = np.array([0, 0.511])\n",
    "Energy = Energy_na\n",
    "N_pe = 0*Energy\n",
    "\n",
    "\n",
    "for i in range(len(x_pos)):\n",
    "    print i, ':', 'E = {:.3f} MeV'.format(Energy[i])\n",
    "    n_pk = h.FindBin(x_pos[i])\n",
    "    \n",
    "    if i==0 or i == 1 or i == 3:\n",
    "        thr = 0.8 * h.GetBinContent(n_pk)\n",
    "    else:\n",
    "        thr = 0.3 * h.GetBinContent(n_pk)   \n",
    "    \n",
    "    n_up = n_pk\n",
    "    while h.GetBinContent(n_up) > thr:\n",
    "        n_up += 1\n",
    "    x_up = h.GetBinCenter(n_up)\n",
    "    \n",
    "    r = h.Fit('gaus', 'LRSQ+', '', x_pos[i]-(x_up-x_pos[i]), x_up)\n",
    "    r = r.Get()\n",
    "    \n",
    "    saturation.SetPoint(int(i), Energy[i], r.Parameter(1)*Ch2N/gain)#number of electrons\n",
    "    saturation.SetPointError(int(i), 0, r.ParError(1)*Ch2N/gain)\n",
    "    if i == 0:\n",
    "        linear.SetPoint(int(i), Energy[i], r.Parameter(1)*Ch2N/gain)#number of electrons\n",
    "        linear.SetPointError(int(i), 0, r.ParError(1)*Ch2N/gain)\n",
    "    print('saturation points',r.Parameter(1)*Ch2N/gain)\n",
    "    print 'Deposited charge: {:.1f} pC (Ne = {:.0f}M)'.format(r.Parameter(1), 1e-6*r.Parameter(1)*Ch2N)\n",
    "    print 'Fit p-val = {:.2f}'.format(r.Prob())\n",
    "    print(r.Parameter(1))\n",
    "    print 'N_pe: {:.0f}'.format(r.Parameter(1)*Ch2N / (gain*Energy[i]))\n",
    "    print 'N_ph: {:.0f}'.format(r.Parameter(1)*Ch2N / (gain*PDE*Energy[i]))\n",
    "    print 'uncertainty in N_ph {:.0f}'.format(r.ParError(1)*Ch2N / (gain*PDE*Energy[i]))\n",
    "    print 'uncertainty in pC {:.0f}'.format(r.ParError(1)*1000)\n",
    "\n",
    "\n",
    "    N_pe[i] = r.Parameter(1)*Ch2N / (gain * Energy[i])\n",
    "    \n",
    "    integral = r.Parameter(0) * np.sqrt(2*np.pi) * r.Parameter(2) / h.GetBinWidth(1)\n",
    "    print 'Estimated number of decays: {:.0f}'.format(integral)\n",
    "    \n",
    "    print '\\n'"
   ]
  },
  {
   "cell_type": "code",
   "execution_count": 80,
   "metadata": {},
   "outputs": [
    {
     "name": "stderr",
     "output_type": "stream",
     "text": [
      "Warning in <TCanvas::Constructor>: Deleting canvas with same name: c_spectrum\n"
     ]
    },
    {
     "data": {
      "image/png": "[encoded data removed]",
      "text/plain": [
       "<IPython.core.display.Image object>"
      ]
     },
     "metadata": {},
     "output_type": "display_data"
    }
   ],
   "source": [
    "c = rt.TCanvas('c_spectrum', 'c_spectrum', 800, 600)\n",
    "#rt.gStyle.SetOptFit(000002200)\n",
    "rt.gStyle.SetOptFit(000002200)\n",
    "h.SetStats(0)\n",
    "h.SetTitle('Integrated charge')\n",
    "h.GetXaxis().SetRangeUser(-20,60)\n",
    "h.DrawCopy()\n",
    "c.SetLogy()\n",
    "c.SetGrid()\n",
    "c.Draw()\n"
   ]
  },
  {
   "cell_type": "code",
   "execution_count": 81,
   "metadata": {},
   "outputs": [
    {
     "name": "stderr",
     "output_type": "stream",
     "text": [
      "Warning in <TROOT::Append>: Replacing existing TH1: h (Potential memory leak).\n"
     ]
    }
   ],
   "source": [
    "f = cs\n",
    "Amp_x_R = 50 * 10\n",
    "content = csv.reader(f)\n",
    "\n",
    "\n",
    "x = []\n",
    "y = []\n",
    "for r in content:\n",
    "    x.append(1e12*float(r[0]) / Amp_x_R)\n",
    "    y.append(float(r[1]))\n",
    "\n",
    "h = rt.TH1F('h', 'h', int(len(x)), x[0], x[-1])\n",
    "# h.GetXaxis().SetLimits(h.FindBin(-300), h.FindBin(0))\n",
    "h.SetXTitle('Charge [pC]')\n",
    "h.SetYTitle('Events / {:1.1e} pC'.format(h.GetBinWidth(1)))\n",
    "for i in range(len(x)):\n",
    "    h.SetBinContent(i+1, y[i])\n",
    "    "
   ]
  },
  {
   "cell_type": "code",
   "execution_count": 82,
   "metadata": {},
   "outputs": [
    {
     "name": "stdout",
     "output_type": "stream",
     "text": [
      "6\n",
      "[(2.340363129973477, 3211.0), (6.497997966401415, 424.0), (9.8071358974359, 368.0), (13.625371971706459, 543.0), (24.061883908045978, 517.0), (32.63170265251989, 1030.0)]\n",
      "[13.625371971706459, 24.061883908045978, 32.63170265251989] [543.0, 517.0, 1030.0]\n"
     ]
    }
   ],
   "source": [
    "SS = rt.TSpectrum()\n",
    "n_pks = SS.Search(h, 0.01, \"\", 0.005)\n",
    "x_pos = SS.GetPositionX()\n",
    "y_pos = SS.GetPositionY()\n",
    "pks = []\n",
    "print n_pks\n",
    "for i in range(n_pks):\n",
    "    pks.append((x_pos[i],y_pos[i]))\n",
    "       \n",
    "pks.sort(key=lambda tup: tup[0])\n",
    "print pks\n",
    "# pks_copy = []\n",
    "# pks_copy.append(pks[n_pks-5])\n",
    "# pks_copy.append(pks[n_pks-3])\n",
    "# pks_copy.append(pks[n_pks-2])\n",
    "# pks = pks_copy\n",
    "x_pos = []\n",
    "y_pos = []\n",
    "pks = [pks[3],pks[4],pks[5]]\n",
    "for x,y in pks:\n",
    "    x_pos.append(x)\n",
    "    y_pos.append(y)\n",
    "print x_pos,y_pos\n"
   ]
  },
  {
   "cell_type": "code",
   "execution_count": 83,
   "metadata": {},
   "outputs": [
    {
     "name": "stdout",
     "output_type": "stream",
     "text": [
      "0 : E = 0.185 MeV\n",
      "('saturation points,', 1046.6522023665152)\n",
      "Deposited charge: 13.7 pC (Ne = 86M)\n",
      "Fit p-val = 0.72\n",
      "13.7463281114\n",
      "N_pe: 5658\n",
      "N_ph: 11315\n",
      "uncertainty in N_ph 32\n",
      "uncertainty in pC 39\n",
      "Estimated number of decays: 41930\n",
      "\n",
      "\n",
      "1 : E = 0.477 MeV\n",
      "('saturation points,', 1810.7191349102743)\n",
      "Deposited charge: 23.8 pC (Ne = 149M)\n",
      "Fit p-val = 0.68\n",
      "23.7812898018\n",
      "N_pe: 3796\n",
      "N_ph: 7592\n",
      "uncertainty in N_ph 22\n",
      "uncertainty in pC 69\n",
      "Estimated number of decays: 51020\n",
      "\n",
      "\n",
      "2 : E = 0.662 MeV\n",
      "('saturation points,', 2483.238735398498)\n",
      "Deposited charge: 32.6 pC (Ne = 204M)\n",
      "Fit p-val = 0.43\n",
      "32.613903987\n",
      "N_pe: 3751\n",
      "N_ph: 7502\n",
      "uncertainty in N_ph 2\n",
      "uncertainty in pC 7\n",
      "Estimated number of decays: 30490\n",
      "\n",
      "\n"
     ]
    }
   ],
   "source": [
    "Energy = Energy_cs\n",
    "N_pe = 0*Energy\n",
    "\n",
    "for i in range(len(x_pos)):\n",
    "    print i, ':', 'E = {:.3f} MeV'.format(Energy[i])\n",
    "    n_pk = h.FindBin(x_pos[i])\n",
    "    \n",
    "    if i == 0 or i==1:\n",
    "        thr = 0.8 * h.GetBinContent(n_pk)\n",
    "    else:\n",
    "        thr = 0.3 * h.GetBinContent(n_pk)   \n",
    "    \n",
    "    n_up = n_pk\n",
    "    while h.GetBinContent(n_up) > thr:\n",
    "        n_up += 1\n",
    "    x_up = h.GetBinCenter(n_up)\n",
    "    \n",
    "    r = h.Fit('gaus', 'LRSQ+', '', x_pos[i]-(x_up-x_pos[i]), x_up)\n",
    "    r = r.Get()\n",
    "    \n",
    "    saturation.SetPoint(int(i)+4, Energy[i], r.Parameter(1)*Ch2N/gain)#number of photoelectron\n",
    "    saturation.SetPointError(int(i)+4, 0, r.ParError(1)*Ch2N/gain)\n",
    "    if i==0 or 1:\n",
    "        linear.SetPoint(int(i)+1, Energy[i], r.Parameter(1)*Ch2N/gain)#number of electrons\n",
    "        linear.SetPointError(int(i)+1, 0, r.ParError(1)*Ch2N/gain)\n",
    "    print('saturation points,' ,r.Parameter(1)*Ch2N/gain)\n",
    "    print 'Deposited charge: {:.1f} pC (Ne = {:.0f}M)'.format(r.Parameter(1), 1e-6*r.Parameter(1)*Ch2N)\n",
    "    print 'Fit p-val = {:.2f}'.format(r.Prob())\n",
    "    print(r.Parameter(1))\n",
    "    print 'N_pe: {:.0f}'.format(r.Parameter(1)*Ch2N / (gain*Energy[i]))\n",
    "    print 'N_ph: {:.0f}'.format(r.Parameter(1)*Ch2N / (gain*PDE*Energy[i]))\n",
    "    print 'uncertainty in N_ph {:.0f}'.format(r.ParError(1)*Ch2N / (gain*PDE*Energy[i]))\n",
    "    print 'uncertainty in pC {:.0f}'.format(r.ParError(1)*1000)\n",
    "\n",
    "\n",
    "    N_pe[i] = r.Parameter(1)*Ch2N / (gain * Energy[i])\n",
    "    \n",
    "    integral = r.Parameter(0) * np.sqrt(2*np.pi) * r.Parameter(2) / h.GetBinWidth(1)\n",
    "    print 'Estimated number of decays: {:.0f}'.format(integral)\n",
    "    \n",
    "    print '\\n'\n",
    "# linear.SetPoint(3,0.0,0.0)"
   ]
  },
  {
   "cell_type": "code",
   "execution_count": 84,
   "metadata": {},
   "outputs": [
    {
     "name": "stderr",
     "output_type": "stream",
     "text": [
      "Warning in <TCanvas::Constructor>: Deleting canvas with same name: c_spectrum\n"
     ]
    },
    {
     "data": {
      "image/png": "[encoded data removed]",
      "text/plain": [
       "<IPython.core.display.Image object>"
      ]
     },
     "metadata": {},
     "output_type": "display_data"
    }
   ],
   "source": [
    "c = rt.TCanvas('c_spectrum', 'c_spectrum', 800, 600)\n",
    "#rt.gStyle.SetOptFit(000002200)\n",
    "rt.gStyle.SetOptFit(000002200)\n",
    "h.SetStats(0)\n",
    "h.SetTitle('Integrated charge')\n",
    "h.GetXaxis().SetRangeUser(-20,60)\n",
    "h.DrawCopy()\n",
    "c.SetLogy()\n",
    "c.SetGrid()\n",
    "c.Draw()\n",
    "\n",
    "\n"
   ]
  },
  {
   "cell_type": "code",
   "execution_count": 88,
   "metadata": {},
   "outputs": [
    {
     "name": "stdout",
     "output_type": "stream",
     "text": [
      "p-val = 0.000\n",
      " FCN=2873.58 FROM MIGRAD    STATUS=CONVERGED     144 CALLS         145 TOTAL\n",
      "                     EDM=1.12975e-07    STRATEGY= 1  ERROR MATRIX UNCERTAINTY   2.6 per cent\n",
      "  EXT PARAMETER                                   STEP         FIRST   \n",
      "  NO.   NAME      VALUE            ERROR          SIZE      DERIVATIVE \n",
      "   1  p0           3.75926e+03   6.00709e+00   1.55446e-03  -2.95156e-05\n",
      "   2  p1           1.62642e+00   4.47534e-03   4.54295e-07   1.00397e-01\n"
     ]
    },
    {
     "name": "stderr",
     "output_type": "stream",
     "text": [
      "Warning in <TCanvas::Constructor>: Deleting canvas with same name: c_gain\n"
     ]
    },
    {
     "data": {
      "image/png": "[encoded data removed]",
      "text/plain": [
       "<IPython.core.display.Image object>"
      ]
     },
     "metadata": {},
     "output_type": "display_data"
    }
   ],
   "source": [
    "multi.Add(saturation)\n",
    "multi.Add(linear)\n",
    "\n",
    "\n",
    "# fit = rt.TF1(\"myfit\",\"[0]-[1]*exp(-[2]*x)\",0,1)\n",
    "fit = rt.TF1(\"myfit\",\"[0]*(1-exp(-[1]*x))\",0,4)\n",
    "fit.SetParameter(0,3000)\n",
    "fit.SetParameter(2,2000)\n",
    "r = saturation.Fit(fit, 'S')\n",
    "\n",
    "r = r.Get()\n",
    "fit = saturation.GetFunction('myfit')\n",
    "fit.SetRange(0,5)\n",
    "print 'p-val = {:.3f}'.format(r.Prob())\n",
    "\n",
    "# r = linear.Fit('pol1', 'S')\n",
    "# r = r.Get()\n",
    "\n",
    "# print 'p-val = {:.3f}'.format(r.Prob())\n",
    "\n",
    "c_gain = rt.TCanvas('c_gain', 'c_gain', 900, 600)\n",
    "# saturation.Draw('AP*E1')\n",
    "saturation.SetTitle(\"\")\n",
    "multi.GetYaxis().SetTitle('Number of Photoelectrons')\n",
    "multi.GetXaxis().SetTitle('Energy [MeV]')\n",
    "rt.gStyle.SetOptFit(0)\n",
    "multi.GetYaxis().SetRangeUser(0,6000)\n",
    "# multi.SetStats(0)\n",
    "\n",
    "multi.Draw('AP*E1')\n",
    "\n",
    "# fit.Draw()\n",
    "\n",
    "\n",
    "multi.GetXaxis().SetLimits(0,5)\n",
    "\n",
    "\n",
    "# linear.Draw()\n",
    "c_gain.SetGrid()\n",
    "# c_gain.SetLogy()\n",
    "c_gain.Draw()"
   ]
  },
  {
   "cell_type": "code",
   "execution_count": null,
   "metadata": {},
   "outputs": [],
   "source": []
  },
  {
   "cell_type": "code",
   "execution_count": null,
   "metadata": {},
   "outputs": [],
   "source": []
  },
  {
   "cell_type": "code",
   "execution_count": null,
   "metadata": {},
   "outputs": [],
   "source": []
  },
  {
   "cell_type": "code",
   "execution_count": null,
   "metadata": {},
   "outputs": [],
   "source": []
  },
  {
   "cell_type": "code",
   "execution_count": null,
   "metadata": {},
   "outputs": [],
   "source": []
  },
  {
   "cell_type": "code",
   "execution_count": null,
   "metadata": {},
   "outputs": [],
   "source": []
  }
 ],
 "metadata": {
  "kernelspec": {
   "display_name": "Python 2",
   "language": "python",
   "name": "python2"
  },
  "language_info": {
   "codemirror_mode": {
    "name": "ipython",
    "version": 2
   },
   "file_extension": ".py",
   "mimetype": "text/x-python",
   "name": "python",
   "nbconvert_exporter": "python",
   "pygments_lexer": "ipython2",
   "version": "2.7.15"
  }
 },
 "nbformat": 4,
 "nbformat_minor": 2
}
