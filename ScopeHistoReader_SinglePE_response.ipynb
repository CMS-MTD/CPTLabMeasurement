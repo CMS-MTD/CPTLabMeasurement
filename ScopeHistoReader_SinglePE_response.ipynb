{
 "cells": [
  {
   "cell_type": "code",
   "execution_count": 2,
   "metadata": {},
   "outputs": [
    {
     "name": "stdout",
     "output_type": "stream",
     "text": [
      "Welcome to JupyROOT 6.13/02\n"
     ]
    }
   ],
   "source": [
    "import csv\n",
    "import numpy as np\n",
    "import ROOT as rt\n",
    "from glob import glob\n",
    "donotdelete = []\n",
    "import math"
   ]
  },
  {
   "cell_type": "code",
   "execution_count": 48,
   "metadata": {},
   "outputs": [],
   "source": [
    "# f = open('../data/181018_wrapping_test_SensLJ/Laser_12x12x4_SensLJ_OV30p0_Tune89_OptFilternd1.csv')\n",
    "#f = open('../data/181017_HPK/HPK_57V_SinglePhoton_NoExtAmp_F1Board.csv')\n",
    "# f = open('../data/18_10_24_sensL_J33_singlephoton/J_33_5/Laser_tune90_ND1_singlephoton_SL_J33_5_OV30V_NoExtAmp.csv')\n",
    "# f = open('../data/18_10_24_sensL_J33_singlephoton/J_33_4/Laser_tune92p5_ND1_singlephoton_SL_J33_3_OV30V_miniAmp.csv')\n",
    "#f = open('../data/18_10_24_sensL_J33_singlephoton/J_33_3/Laser_tune90_ND1_singlephoton_SL_J33_3_OV30V_NoExtAmp.csv')\n",
    "# f = open('../data/18_10_24_sensL_J33_singlephoton/J_33_3/Laser_tune92p5_ND1_singlephoton_SL_J33_3_OV26p5V_miniAmp.csv')\n",
    "# f = open('../data/18_10_26_gain_gate_test_Ham_laser/Laser92_ND1_ham_test_gain_6ns_gate_window_v2.csv')\n",
    "# f = open('../data/18_10_26_single_photon_sensL_ham_noextamp_gain_measurement_optimal_gate/laser_tune_95p6_J_33_serial2_gain_15ns_gate.csv')\n",
    "# f = open('../data/18_10_30_sinlge_pe_new_amps_Laser90_ND1/Laser90_ND1_SensL_J33_4_Amp74+_gate_15ns_OV30V.csv')\n",
    "# f = open('../data/181101_sensL_C_33_20_gate_test/Laser85_ND1_sensL_C_33_20_1_gate_10ns_OV30V.csv')\n",
    "# f = open('../data/181101_laser95_nd1_V_bd_measurement_SensL_C_33_20/laser92_nd1_Sensl_C_33_20_1_OV27V_miniAmp.csv')\n",
    "# f = open('../data/18_10_29_HamSurfaceMount_SinglePhoton/Laser90_ND1_Ham_OV57V_miniAmp_gate4ns.csv')\n",
    "# f = open('../data/18_11_05_single_photon_sensl_boards/J_44_35_2/sensl_J_44_35_2_LaserTune90_ND1_OV30V_NoExtAmp_gate15ns.csv')\n",
    "\n",
    "f = open('../data/190523_doe_visit/SenslJ33_4_SinglePhoton.csv')\n",
    "\n",
    "\n",
    "content = csv.reader(f)\n",
    "amp_factor = 10\n",
    "Resistance = 50\n",
    "Amp_x_R = amp_factor * Resistance\n",
    "negative_pulse = False\n",
    "\n",
    "x = []\n",
    "y = []\n",
    "if negative_pulse:\n",
    "    for r in content:\n",
    "        x.append(1.0*1e12*float(r[0]) / Amp_x_R) # x has unit pC now\n",
    "    #     x.append(float(r[0]))\n",
    "        y.append(float(r[1]))\n",
    "        \n",
    "#     print(x[-1],x[0])\n",
    "    x0 = x[0]\n",
    "    x1 = x[-1]\n",
    "else:\n",
    "    for r in content:\n",
    "        x.append(-1.0*1e12*float(r[0]) / Amp_x_R) # x has unit pC now\n",
    "        y.append(float(r[1]))\n",
    "    x0 = x[-1]\n",
    "    x1 = x[0]\n",
    "    y.reverse()\n"
   ]
  },
  {
   "cell_type": "code",
   "execution_count": 51,
   "metadata": {},
   "outputs": [
    {
     "name": "stderr",
     "output_type": "stream",
     "text": [
      "Warning in <TROOT::Append>: Replacing existing TH1: h (Potential memory leak).\n"
     ]
    }
   ],
   "source": [
    "if negative_pulse:\n",
    "    h = rt.TH1F('h', 'h', int(len(x)), x[0], x[-1])\n",
    "else:\n",
    "    h = rt.TH1F('h', 'h', int(len(x)), x[-1], x[0])\n",
    "h.SetXTitle('Charge [pC]')\n",
    "h.SetYTitle('Events / {:1.1e} pC'.format(h.GetBinWidth(1)))\n",
    "for i in range(len(x)):\n",
    "    h.SetBinContent(i+1, y[i])\n",
    "    \n",
    "    "
   ]
  },
  {
   "cell_type": "code",
   "execution_count": 57,
   "metadata": {},
   "outputs": [
    {
     "name": "stdout",
     "output_type": "stream",
     "text": [
      "6\n",
      "-0.003557983\n",
      "74420.4\n"
     ]
    }
   ],
   "source": [
    "peak_sigma = 0.01\n",
    "SS = rt.TSpectrum()\n",
    "n_pks = SS.Search(h, 0.001, \"\", 0.005)\n",
    "x_pos = SS.GetPositionX()\n",
    "y_pos = SS.GetPositionY()\n",
    "print n_pks\n",
    "Ch2N = 1.0e-12/1.6e-19\n",
    "print(x_pos[0])\n",
    "print (x_pos[1]-x_pos[0])*Ch2N"
   ]
  },
  {
   "cell_type": "code",
   "execution_count": 65,
   "metadata": {},
   "outputs": [
    {
     "name": "stdout",
     "output_type": "stream",
     "text": [
      "('xlow, xup', -0.005418493000000003, -0.0016974729999999975)\n",
      "<ROOT.TFitResult object (\"TFitResult-h-gaus\") at 0x7ffbaed8ecd0>\n",
      "peak number: 0, prob: 0.392387024355\n",
      "(-0.003456606432011158, 'pC')\n",
      "('xlow, xup', 0.006116668999999998, 0.010209791000000003)\n",
      "<ROOT.TFitResult object (\"TFitResult-h-gaus\") at 0x7ffbab211a30>\n",
      "peak number: 1, prob: 0.580843517551\n",
      "(0.008106963279624393, 'pC')\n",
      "('xlow, xup', 0.016907626999999988, 0.02174495299999999)\n",
      "<ROOT.TFitResult object (\"TFitResult-h-gaus\") at 0x7ffbaf927e60>\n",
      "peak number: 2, prob: 0.0898881123382\n",
      "(0.019453940808792862, 'pC')\n",
      "('xlow, xup', 0.028442789000000003, 0.033280115000000006)\n",
      "<ROOT.TFitResult object (\"TFitResult-h-gaus\") at 0x7ffbaef33e60>\n",
      "peak number: 3, prob: 0.428760898218\n",
      "(0.030900745834514434, 'pC')\n",
      "('xlow, xup', 0.040350053000000004, 0.04444317500000001)\n",
      "<ROOT.TFitResult object (\"TFitResult-h-gaus\") at 0x7ffbaef36420>\n",
      "peak number: 4, prob: 0.979430724919\n",
      "(0.04245796658098517, 'pC')\n",
      "('xlow, xup', 0.05114101099999999, 0.056722540999999994)\n",
      "<ROOT.TFitResult object (\"TFitResult-h-gaus\") at 0x7ffbaef343d0>\n",
      "peak number: 5, prob: 0.953105283138\n",
      "(0.05367210233263636, 'pC')\n"
     ]
    },
    {
     "name": "stderr",
     "output_type": "stream",
     "text": [
      "Warning in <TROOT::Append>: Replacing existing TH1: h_poiss (Potential memory leak).\n"
     ]
    }
   ],
   "source": [
    "gr_gain = rt.TGraphErrors(n_pks)\n",
    "\n",
    "\n",
    "# Ch2N = 1e-12/(1.6e-19 * amp_factor * Resistance)\n",
    "Ch2N = 1.0e-12/1.6e-19\n",
    "# Ch2N = 1e3/(amp_factor * Resistance)\n",
    "peak_height_position = []\n",
    "pos_err = []\n",
    "\n",
    "h_poiss = rt.TH1F('h_poiss', 'Measured probability of number of photo electrons', n_pks, -0.5, n_pks - 0.5)\n",
    "# mean = []\n",
    "# sig = []\n",
    "\n",
    "for i in range(n_pks):\n",
    "    n_pk = h.FindBin(x_pos[i])\n",
    "    \n",
    "    thr = 0.6* h.GetBinContent(n_pk)\n",
    "    \n",
    "    n_low = n_pk\n",
    "    while h.GetBinContent(n_low) > thr:\n",
    "        n_low -= 1\n",
    "    x_low = h.GetBinCenter(n_low)    \n",
    "    \n",
    "        \n",
    "    n_up = n_pk\n",
    "    while h.GetBinContent(n_up) > thr:\n",
    "        n_up += 1\n",
    "    x_up = h.GetBinCenter(n_up)\n",
    "    \n",
    "    r = h.Fit('gaus', 'LRSQ+', '', x_low, x_up)\n",
    "    print('xlow, xup',x_low,x_up)\n",
    "    r = r.Get()\n",
    "    print r\n",
    "\n",
    "\n",
    "\n",
    "    print (\"peak number: \"+ str(i)+', prob: '+str(r.Prob()))\n",
    "    \n",
    "    integral = r.Parameter(0) * np.sqrt(2*np.pi) * r.Parameter(2) / h.GetBinWidth(1)\n",
    "    peak_height_position.append((integral,r.Parameter(1)))\n",
    "    pos_err.append(r.ParError(1))\n",
    "    h_poiss.SetBinContent(i+1, integral)\n",
    "    d_int = integral * rt.TMath.Hypot(r.ParError(0)/r.Parameter(0), r.ParError(2)/r.Parameter(2))\n",
    "    h_poiss.SetBinError(i+1, d_int)\n",
    "    print(r.Parameter(1), \"pC\")\n",
    "\n",
    "# print('gain: '+str(int(gain))+', gain uncertainty: '+str(int(gain_err)))\n",
    "peak_height_position.sort(key=lambda tup: tup[1])\n",
    "events = h.Integral()\n",
    "for i in range(len(peak_height_position)):\n",
    "    gr_gain.SetPoint(int(i), float(i), peak_height_position[i][1])\n",
    "    gr_gain.SetPointError(int(i), 0, pos_err[i])\n",
    "\n"
   ]
  },
  {
   "cell_type": "code",
   "execution_count": 59,
   "metadata": {},
   "outputs": [
    {
     "name": "stdout",
     "output_type": "stream",
     "text": [
      "0.30519975424655055 0.3983466442387054\n"
     ]
    }
   ],
   "source": [
    "#### Cross talk\n",
    "n = 4\n",
    "# print(peak_height_position[0][0]/events,peak_height_position[1][0]/events)\n",
    "mu = -np.log(peak_height_position[0][0]/events)\n",
    "epsilon = 1- peak_height_position[1][0]/events/(mu*math.exp(-mu))\n",
    "crosstalk = epsilon + (3*n-3)/(2*n)*epsilon**2\n",
    "print epsilon,crosstalk\n",
    "# print math.log(0.3218504185316469),mu"
   ]
  },
  {
   "cell_type": "code",
   "execution_count": 60,
   "metadata": {
    "scrolled": false
   },
   "outputs": [
    {
     "name": "stderr",
     "output_type": "stream",
     "text": [
      "Warning in <TCanvas::Constructor>: Deleting canvas with same name: c_spectrum\n"
     ]
    },
    {
     "data": {
      "image/png": "[encoded data removed]",
      "text/plain": [
       "<IPython.core.display.Image object>"
      ]
     },
     "metadata": {},
     "output_type": "display_data"
    }
   ],
   "source": [
    "c = rt.TCanvas('c_spectrum', 'c_spectrum', 800, 600)\n",
    "rt.gStyle.SetOptFit(000002200)\n",
    "h.SetStats(0)\n",
    "h.GetXaxis().SetRangeUser(-0.05,0.2)\n",
    "h.SetTitle('Integrated charge')\n",
    "h.DrawCopy('E')\n",
    "c.SetLogy()\n",
    "# c.SetGrid()\n",
    "c.Draw()\n",
    "donotdelete.append(c)"
   ]
  },
  {
   "cell_type": "code",
   "execution_count": 101,
   "metadata": {},
   "outputs": [
    {
     "name": "stdout",
     "output_type": "stream",
     "text": [
      "p-val = 0.002\n",
      "\n",
      "****************************************\n",
      "Minimizer is Linear\n",
      "Chi2                      =      16.9324\n",
      "NDf                       =            4\n",
      "p0                        =  -0.00342933   +/-   1.61256e-05 \n",
      "p1                        =    0.0114595   +/-   1.14492e-05 \n"
     ]
    },
    {
     "name": "stderr",
     "output_type": "stream",
     "text": [
      "Warning in <TCanvas::Constructor>: Deleting canvas with same name: c_gain\n"
     ]
    },
    {
     "data": {
      "image/png": "[encoded data removed]",
      "text/plain": [
       "<IPython.core.display.Image object>"
      ]
     },
     "metadata": {},
     "output_type": "display_data"
    }
   ],
   "source": [
    "r = gr_gain.Fit('pol1', 'S')\n",
    "r = r.Get()\n",
    "\n",
    "print 'p-val = {:.3f}'.format(r.Prob())\n",
    "\n",
    "c_gain = rt.TCanvas('c_gain', 'c_gain', 900, 600)\n",
    "gr_gain.Draw('AP*E1')\n",
    "gr_gain.SetTitle(\"\")\n",
    "gr_gain.GetXaxis().SetTitle('Number of Photoelectrons')\n",
    "gr_gain.GetYaxis().SetTitle('Integrated Charge (pC)')\n",
    "gr_gain.GetYaxis().SetLimits(0,0.06)\n",
    "gr_gain.GetXaxis().SetLimits(0,5)\n",
    "\n",
    "c_gain.SetGrid()\n",
    "c_gain.Draw()\n",
    "\n",
    "rt.gStyle.SetOptFit(0)\n",
    "\n"
   ]
  },
  {
   "cell_type": "code",
   "execution_count": 96,
   "metadata": {},
   "outputs": [
    {
     "name": "stdout",
     "output_type": "stream",
     "text": [
      "312.045451374\n",
      "4\n",
      "2.72994372369e-66\n",
      " FCN=0.0335568 FROM MINOS     STATUS=SUCCESSFUL     68 CALLS         429 TOTAL\n",
      "                     EDM=2.86823e-08    STRATEGY= 1      ERROR MATRIX ACCURATE \n",
      "  EXT PARAMETER                                   STEP         FIRST   \n",
      "  NO.   NAME      VALUE            ERROR          SIZE      DERIVATIVE \n",
      "   1  p0           1.00162e+00   1.00164e+00   2.89297e-06  -2.98986e-07\n",
      "   2  p1           1.20394e+00   1.11440e+00   1.11440e+00  -1.10821e-07\n",
      "                               ERR DEF= 0.5\n"
     ]
    },
    {
     "name": "stderr",
     "output_type": "stream",
     "text": [
      "Warning in <TCanvas::Constructor>: Deleting canvas with same name: c_poiss\n"
     ]
    },
    {
     "data": {
      "image/png": "[encoded data removed]",
      "text/plain": [
       "<IPython.core.display.Image object>"
      ]
     },
     "metadata": {},
     "output_type": "display_data"
    }
   ],
   "source": [
    "h_poiss.Scale(1./h_poiss.Integral())\n",
    "h_poiss.SetXTitle('N_{PE}')\n",
    "h_poiss.SetYTitle('P(N_{PE})')\n",
    "h_poiss.SetStats(1)\n",
    "\n",
    "poiss = rt.TF1('f_poiss', '[0]*TMath::Poisson(x,[1])')\n",
    "r = h_poiss.Fit('f_poiss', 'LSE')\n",
    "print r.Get().Chi2()\n",
    "print r.Get().Ndf()\n",
    "print r.Get().Prob()\n",
    "c_poiss = rt.TCanvas('c_poiss', 'c_poiss', 800, 600)\n",
    "h_poiss.Draw('E1')\n",
    "\n",
    "# rt.gStyle.SetOptFit(0)\n",
    "\n",
    "\n",
    "h_poiss.GetYaxis().SetRangeUser(0., 0.5)\n",
    "# c_poiss.SetLogy()\n",
    "c_poiss.Draw()\n"
   ]
  },
  {
   "cell_type": "code",
   "execution_count": null,
   "metadata": {},
   "outputs": [],
   "source": []
  },
  {
   "cell_type": "code",
   "execution_count": null,
   "metadata": {},
   "outputs": [],
   "source": []
  }
 ],
 "metadata": {
  "kernelspec": {
   "display_name": "Python 2",
   "language": "python",
   "name": "python2"
  },
  "language_info": {
   "codemirror_mode": {
    "name": "ipython",
    "version": 2
   },
   "file_extension": ".py",
   "mimetype": "text/x-python",
   "name": "python",
   "nbconvert_exporter": "python",
   "pygments_lexer": "ipython2",
   "version": "2.7.15"
  }
 },
 "nbformat": 4,
 "nbformat_minor": 2
}
