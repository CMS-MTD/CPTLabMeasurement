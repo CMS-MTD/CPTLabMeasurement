{
 "cells": [
  {
   "cell_type": "code",
   "execution_count": 1,
   "metadata": {},
   "outputs": [
    {
     "name": "stdout",
     "output_type": "stream",
     "text": [
      "Welcome to JupyROOT 6.14/04\n"
     ]
    }
   ],
   "source": [
    "import csv\n",
    "import numpy as np\n",
    "import ROOT as rt\n",
    "import os\n",
    "from glob import glob\n",
    "import math"
   ]
  },
  {
   "cell_type": "code",
   "execution_count": 8,
   "metadata": {},
   "outputs": [],
   "source": [
    "xtalk = rt.TMultiGraph()\n",
    "sensL = rt.TGraphErrors(1)\n",
    "# ov= [26.5,27,27.5, 28,28.5,29,29.5,30]\n",
    "# J_33_5 = [0.04158259273816912, 0.0640723417168874, 0.09872842853981684, 0.1343373031435539, 0.16012499945802755, 0.20156010128521568, 0.2617639779447024,0.39483356619310395]\n",
    "# J_33_4 = [0.04158259273816912,0.06357163463048571,0.09872842889965266,0.1343424265597158,0.1601249990044154,0.20155854519623304,0.2617565853479066,0.39483356619310395]\n",
    "# J_33_3 = [0.043903627125962394,0.07848894201109773,0.1081529341974125,0.13321378626998354,0.1964421914368036,0.228261984054054,0.27225093863119754,0.47744978120063464]\n",
    "# J_33_2 = [0.03507379845259262,0.06418442991887885,0.09980656517385941,0.1522167437205545,0.1809331058403753,0.22833019631299106,0.2621966214640237,0.2892999650046042]\n",
    "ov = [27.5,28,28.5,29,29.5,30]\n",
    "n = len(ov)\n",
    "\n",
    "C_33_1 = [0.02067508287198355,0.02026372211804417,0.038109134330965744,0.0318,0.04336778102641281,0.04904450267996685]\n",
    "sensL.SetPoint(0,27.8,3)\n",
    "# gr5 = rt.TGraphErrors(n)\n",
    "# gr4 = rt.TGraphErrors(n)\n",
    "# gr3 = rt.TGraphErrors(n)\n",
    "# gr2 = rt.TGraphErrors(n)\n",
    "# gr = [gr5,gr4,gr3,gr2]\n",
    "c1=rt.TGraphErrors(n)\n",
    "gr = [c1]\n",
    "# J_33_5 = np.array(J_33_5)*100\n",
    "# J_33_4 = np.array(J_33_4)*100\n",
    "# J_33_3 = np.array(J_33_3)*100\n",
    "# J_33_2 = np.array(J_33_2)*100\n",
    "\n",
    "C_33_1 = np.array(C_33_1)*100\n",
    "\n",
    "for i in range(n):\n",
    "#     gr5.SetPoint(i,ov[i], J_33_5[i])\n",
    "#     gr4.SetPoint(i,ov[i], J_33_4[i])\n",
    "#     gr3.SetPoint(i,ov[i], J_33_3[i])\n",
    "#     gr2.SetPoint(i,ov[i], J_33_2[i])\n",
    "    c1.SetPoint(i,ov[i],C_33_1[i])\n",
    "xtalk.Add(c1)\n",
    "xtalk.Add(sensL)\n",
    "# xtalk.Add(gr4)\n",
    "# xtalk.Add(gr3)\n",
    "# xtalk.Add(gr2)\n",
    "# xtalk.Add(gr5)\n",
    "\n",
    "\n"
   ]
  },
  {
   "cell_type": "code",
   "execution_count": 10,
   "metadata": {},
   "outputs": [
    {
     "name": "stderr",
     "output_type": "stream",
     "text": [
      "Warning in <TCanvas::Constructor>: Deleting canvas with same name: c_xtalk\n"
     ]
    },
    {
     "data": {
      "image/png": "[encoded data removed]",
      "text/plain": [
       "<IPython.core.display.Image object>"
      ]
     },
     "metadata": {},
     "output_type": "display_data"
    }
   ],
   "source": [
    "canvas = rt.TCanvas('c_xtalk', 'c_xtalk', 800, 600)\n",
    "legend = rt.TLegend(0.15,0.70,0.35,0.9);\n",
    "# legend_entry = ['J_33_5','J_33_4','J_33_3','J_33_2']\n",
    "legend_entry = ['C_33_1']\n",
    "xtalk.SetTitle(\"\")\n",
    "xtalk.GetXaxis().SetTitle('Over Voltage (V)')\n",
    "xtalk.GetYaxis().SetTitle('Total Crosstalk Probability (%)')\n",
    "\n",
    "for i in range(len(gr)):\n",
    "    gr[i].SetMarkerStyle(34)\n",
    "    gr[i].SetMarkerSize(2)\n",
    "    gr[i].SetMarkerColor(i+1)\n",
    "    legend.AddEntry(gr[i],legend_entry[i])\n",
    "\n",
    "sensL.SetMarkerStyle(34)\n",
    "sensL.SetMarkerSize(2)\n",
    "\n",
    "\n",
    "sensL.SetMarkerColor(2)\n",
    "legend.AddEntry(sensL,\"SensL data sheet\")\n",
    "xtalk.Draw(\"AP\")\n",
    "# rt.gStyle.SetOptFit(000002200)\n",
    "# gain.GetXaxis().SetRangeUser(25,30)\n",
    "xtalk.GetYaxis().SetRangeUser(0,6)\n",
    "canvas.SetLeftMargin(0.15)\n",
    "canvas.SetGrid()\n",
    "canvas.Draw()\n",
    "\n",
    "legend.Draw()\n"
   ]
  },
  {
   "cell_type": "code",
   "execution_count": null,
   "metadata": {},
   "outputs": [],
   "source": []
  }
 ],
 "metadata": {
  "kernelspec": {
   "display_name": "Python 2",
   "language": "python",
   "name": "python2"
  },
  "language_info": {
   "codemirror_mode": {
    "name": "ipython",
    "version": 2
   },
   "file_extension": ".py",
   "mimetype": "text/x-python",
   "name": "python",
   "nbconvert_exporter": "python",
   "pygments_lexer": "ipython2",
   "version": "2.7.15"
  }
 },
 "nbformat": 4,
 "nbformat_minor": 2
}
